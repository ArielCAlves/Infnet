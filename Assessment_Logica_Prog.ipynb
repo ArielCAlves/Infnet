{
  "nbformat": 4,
  "nbformat_minor": 0,
  "metadata": {
    "colab": {
      "name": "Assessment-Logica_Prog.ipynb",
      "provenance": [],
      "collapsed_sections": [],
      "authorship_tag": "ABX9TyNAS7yy9646WS0uLGO5nKNv",
      "include_colab_link": true
    },
    "kernelspec": {
      "name": "python3",
      "display_name": "Python 3"
    },
    "language_info": {
      "name": "python"
    }
  },
  "cells": [
    {
      "cell_type": "markdown",
      "metadata": {
        "id": "view-in-github",
        "colab_type": "text"
      },
      "source": [
        "<a href=\"https://colab.research.google.com/github/ArielCAlves/Infnet/blob/main/Assessment_Logica_Prog.ipynb\" target=\"_parent\"><img src=\"https://colab.research.google.com/assets/colab-badge.svg\" alt=\"Open In Colab\"/></a>"
      ]
    },
    {
      "cell_type": "markdown",
      "source": [
        "# Questão 3 \n",
        "\n",
        "Considere o argumento abaixo:\n",
        "\n",
        "Você já deve ter ouvido algum especialista dizer que as pessoas precisam dedicar, no máximo, 30% da sua renda mensal à moradia, 20% à educação e 15% ao transporte. Esses valores não devem ser totalmente desprezados, mas não podem funcionar como um norte para o orçamento doméstico de todas as famílias.\n",
        "\n",
        "Fonte: BTG Pactual Digital\n",
        "\n",
        "Crie um programa contendo uma função que, dados um valor de renda mensal total, gastos totais com moradia, gastos totais com educação e gastos totais com transporte, faça um diagnóstico da saúde financeira do usuário, com base nos valores percentuais acima expostos, informando qual é o percentual da renda mensal total comprometido por cada custo. \n",
        "\n",
        "\n",
        "- Se o gasto estiver dentro do percentual recomendado, informe ainda que: Seus gastos estão dentro da margem recomendada.\n",
        "- Caso contrário, informe: Portanto, idealmente, o máximo de sua renda comprometida com {tipo} deveria ser de R$ {valor_max}"
      ],
      "metadata": {
        "id": "c_6N1S8diMg0"
      }
    },
    {
      "cell_type": "code",
      "source": [
        "class diagnostico():\n",
        "  def __init__(self,renda,moradia,edu,transp):\n",
        "    self.renda = renda\n",
        "    self.moradia = moradia\n",
        "    self.edu = edu\n",
        "    self.transp = transp\n",
        "    print('Diagnóstico:\\n')\n",
        "\n",
        "  def rendaMensal(self):\n",
        "    pass\n",
        "\n",
        "  def diagMoradia(self):\n",
        "    moradia_max = self.renda * 0.3\n",
        "    if self.moradia > moradia_max:\n",
        "      print(f'Seus gastos totais com moradia comprometem {(self.moradia/self.renda)*100:.2f}%. O máximo recomendado é de 30%. Portanto, idealmente, o máximo de sua renda comprometida com moradia deveria ser de {moradia_max:.2f}.')\n",
        "    else:\n",
        "      print(f'Seus gastos totais com moradia comprometem {(self.moradia/self.renda)*100:.2f}%. O máximo recomendado é de 30%. Seus gastos estão dentro da margem recomendada.')\n",
        "\n",
        "  def diagEdu(self):\n",
        "    edu_max = self.renda * 0.2\n",
        "    if self.edu > edu_max:\n",
        "      print(f'Seus gastos totais com educação comprometem {(self.edu/self.renda)*100:.2f}%. O máximo recomendado é de 20%. Portanto, idealmente, o máximo de sua renda comprometida com moradia deveria ser de {edu_max:.2f}.')\n",
        "    else:\n",
        "      print(f'Seus gastos totais com educação comprometem {(self.edu/self.renda)*100:.2f}%. O máximo recomendado é de 20%. Seus gastos estão dentro da margem recomendada.')\n",
        "\n",
        "  def diagTransp(self):\n",
        "    transp_max = self.renda * 0.15\n",
        "    if self.transp > transp_max:\n",
        "      print(f'Seus gastos totais com transporte comprometem {(self.transp/self.renda)*100:.2f}%. O máximo recomendado é de 15%. Portanto, idealmente, o máximo de sua renda comprometida com moradia deveria ser de {transp_max:.2f}.')\n",
        "    else:\n",
        "      print(f'Seus gastos totais com transporte comprometem {(self.transp/self.renda)*100:.2f}%. O máximo recomendado é de 15%. Seus gastos estão dentro da margem recomendada.')"
      ],
      "metadata": {
        "id": "NrGxOG_4wzPw"
      },
      "execution_count": 100,
      "outputs": []
    },
    {
      "cell_type": "code",
      "source": [
        "result = diagnostico(18200.39,15000.57,5000,600)\n",
        "result.diagMoradia()\n",
        "result.diagEdu()\n",
        "result.diagTransp()"
      ],
      "metadata": {
        "colab": {
          "base_uri": "https://localhost:8080/"
        },
        "id": "QdCUaB0GySaB",
        "outputId": "c033b0ae-69a5-4369-8466-d1def6b72e45"
      },
      "execution_count": 101,
      "outputs": [
        {
          "output_type": "stream",
          "name": "stdout",
          "text": [
            "Diagnóstico:\n",
            "\n",
            "Seus gastos totais com moradia comprometem 82.42%. O máximo recomendado é de 30%. Portanto, idealmente, o máximo de sua renda comprometida com moradia deveria ser de 5460.12.\n",
            "Seus gastos totais com educação comprometem 27.47%. O máximo recomendado é de 20%. Portanto, idealmente, o máximo de sua renda comprometida com moradia deveria ser de 3640.08.\n",
            "Seus gastos totais com transporte comprometem 3.30%. O máximo recomendado é de 15%. Seus gastos estão dentro da margem recomendada.\n"
          ]
        }
      ]
    },
    {
      "cell_type": "code",
      "source": [
        ""
      ],
      "metadata": {
        "id": "Pr-LAOU-zPE7"
      },
      "execution_count": null,
      "outputs": []
    },
    {
      "cell_type": "code",
      "source": [
        ""
      ],
      "metadata": {
        "id": "89RsyOUzE7iJ"
      },
      "execution_count": null,
      "outputs": []
    },
    {
      "cell_type": "code",
      "source": [
        ""
      ],
      "metadata": {
        "id": "vyB2g9niE7-7"
      },
      "execution_count": null,
      "outputs": []
    },
    {
      "cell_type": "markdown",
      "source": [
        "# Questão 4\n",
        "Seja a seguinte citação:\n",
        "\n",
        "Os juros compostos são a força mais poderosa do universo e a maior invenção da humanidade, porque permitem uma confiável e sistemática acumulação de riqueza\n",
        "\n",
        "A frase, curiosamente, é de Albert Einstein, não de algum banqueiro ou gestor de fundos de capitais. \n",
        "\n",
        "- Crie um programa que ponha a hipótese de Einstein à prova. Em uma função, receba, como entrada, um montante financeiro inicial, um percentual de rendimento por período, um valor de aporte para cada período e uma quantidade de períodos.\n",
        "- Crie uma função que exiba um gráfico da evolução do valor acumulado, tendo como eixo das abscissas (horizontal) o número de períodos e, no eixo das ordenadas (vertical), o valor acumulado, em reais.\n"
      ],
      "metadata": {
        "id": "UZT2DxnuE8M8"
      }
    }
  ]
}