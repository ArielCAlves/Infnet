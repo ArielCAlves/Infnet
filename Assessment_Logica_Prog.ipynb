{
  "nbformat": 4,
  "nbformat_minor": 0,
  "metadata": {
    "colab": {
      "name": "Assessment-Logica_Prog.ipynb",
      "provenance": [],
      "collapsed_sections": [],
      "authorship_tag": "ABX9TyM2Gp788xSJU30APESZWDu6",
      "include_colab_link": true
    },
    "kernelspec": {
      "name": "python3",
      "display_name": "Python 3"
    },
    "language_info": {
      "name": "python"
    }
  },
  "cells": [
    {
      "cell_type": "markdown",
      "metadata": {
        "id": "view-in-github",
        "colab_type": "text"
      },
      "source": [
        "<a href=\"https://colab.research.google.com/github/ArielCAlves/Infnet/blob/main/Assessment_Logica_Prog.ipynb\" target=\"_parent\"><img src=\"https://colab.research.google.com/assets/colab-badge.svg\" alt=\"Open In Colab\"/></a>"
      ]
    },
    {
      "cell_type": "markdown",
      "source": [
        "## Questão 3 \n",
        "\n",
        "Considere o argumento abaixo:\n",
        "\n",
        "Você já deve ter ouvido algum especialista dizer que as pessoas precisam dedicar, no máximo, 30% da sua renda mensal à moradia, 20% à educação e 15% ao transporte. Esses valores não devem ser totalmente desprezados, mas não podem funcionar como um norte para o orçamento doméstico de todas as famílias.\n",
        "\n",
        "Fonte: BTG Pactual Digital\n",
        "\n",
        "Crie um programa contendo uma função que, dados um valor de renda mensal total, gastos totais com moradia, gastos totais com educação e gastos totais com transporte, faça um diagnóstico da saúde financeira do usuário, com base nos valores percentuais acima expostos, informando qual é o percentual da renda mensal total comprometido por cada custo. \n",
        "\n",
        "\n",
        "- Se o gasto estiver dentro do percentual recomendado, informe ainda que: Seus gastos estão dentro da margem recomendada.\n",
        "- Caso contrário, informe: Portanto, idealmente, o máximo de sua renda comprometida com {tipo} deveria ser de R$ {valor_max}"
      ],
      "metadata": {
        "id": "c_6N1S8diMg0"
      }
    },
    {
      "cell_type": "code",
      "source": [
        "class diagnostico():\n",
        "  def __init__(self,renda,moradia,edu,transp):\n",
        "    self.renda = renda\n",
        "    self.moradia = moradia\n",
        "    self.edu = edu\n",
        "    self.transp = transp\n",
        "    print('Diagnóstico:\\n')\n",
        "\n",
        "  def rendaMensal(self):\n",
        "    pass\n",
        "\n",
        "  def diagMoradia(self):\n",
        "    moradia_max = self.renda * 0.3\n",
        "    if self.moradia > moradia_max:\n",
        "      print(f'Seus gastos totais com moradia comprometem {(self.moradia/self.renda)*100:.2f}%. O máximo recomendado é de 30%. Portanto, idealmente, o máximo de sua renda comprometida com moradia deveria ser de {moradia_max:.2f}.')\n",
        "    else:\n",
        "      print(f'Seus gastos totais com moradia comprometem {(self.moradia/self.renda)*100:.2f}%. O máximo recomendado é de 30%. Seus gastos estão dentro da margem recomendada.')\n",
        "\n",
        "  def diagEdu(self):\n",
        "    edu_max = self.renda * 0.2\n",
        "    if self.edu > edu_max:\n",
        "      print(f'Seus gastos totais com educação comprometem {(self.edu/self.renda)*100:.2f}%. O máximo recomendado é de 20%. Portanto, idealmente, o máximo de sua renda comprometida com moradia deveria ser de {edu_max:.2f}.')\n",
        "    else:\n",
        "      print(f'Seus gastos totais com educação comprometem {(self.edu/self.renda)*100:.2f}%. O máximo recomendado é de 20%. Seus gastos estão dentro da margem recomendada.')\n",
        "\n",
        "  def diagTransp(self):\n",
        "    transp_max = self.renda * 0.15\n",
        "    if self.transp > transp_max:\n",
        "      print(f'Seus gastos totais com educação comprometem {(self.transp/self.renda)*100:.2f}%. O máximo recomendado é de 15%. Portanto, idealmente, o máximo de sua renda comprometida com moradia deveria ser de {transp_max:.2f}.')\n",
        "    else:\n",
        "      print(f'Seus gastos totais com educação comprometem {(self.transp/self.renda)*100:.2f}%. O máximo recomendado é de 15%. Seus gastos estão dentro da margem recomendada.')"
      ],
      "metadata": {
        "id": "NrGxOG_4wzPw"
      },
      "execution_count": 97,
      "outputs": []
    },
    {
      "cell_type": "code",
      "source": [
        "result = diagnostico(18200.39,15000.57,5000,600)\n",
        "result.diagMoradia()\n",
        "result.diagEdu()\n",
        "result.diagTransp()"
      ],
      "metadata": {
        "colab": {
          "base_uri": "https://localhost:8080/"
        },
        "id": "QdCUaB0GySaB",
        "outputId": "20c61465-88cd-44c8-8d57-ec0b07e954dd"
      },
      "execution_count": 99,
      "outputs": [
        {
          "output_type": "stream",
          "name": "stdout",
          "text": [
            "Diagnóstico:\n",
            "\n",
            "Seus gastos totais com moradia comprometem 82.42%. O máximo recomendado é de 30%. Portanto, idealmente, o máximo de sua renda comprometida com moradia deveria ser de 5460.12.\n",
            "Seus gastos totais com educação comprometem 27.47%. O máximo recomendado é de 20%. Portanto, idealmente, o máximo de sua renda comprometida com moradia deveria ser de 3640.08.\n",
            "Seus gastos totais com educação comprometem 3.30%. O máximo recomendado é de 15%. Seus gastos estão dentro da margem recomendada.\n"
          ]
        }
      ]
    },
    {
      "cell_type": "code",
      "source": [
        ""
      ],
      "metadata": {
        "id": "Pr-LAOU-zPE7"
      },
      "execution_count": null,
      "outputs": []
    }
  ]
}