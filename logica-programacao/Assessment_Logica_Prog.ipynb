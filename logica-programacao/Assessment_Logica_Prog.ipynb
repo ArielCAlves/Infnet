{
 "cells": [
  {
   "cell_type": "markdown",
   "metadata": {
    "colab_type": "text",
    "id": "view-in-github"
   },
   "source": [
    "<a href=\"https://colab.research.google.com/github/ArielCAlves/Infnet/blob/main/Assessment_Logica_Prog.ipynb\" target=\"_parent\"><img src=\"https://colab.research.google.com/assets/colab-badge.svg\" alt=\"Open In Colab\"/></a>"
   ]
  },
  {
   "cell_type": "markdown",
   "metadata": {
    "id": "c_6N1S8diMg0"
   },
   "source": [
    "# Questão 3 \n",
    "\n",
    "Considere o argumento abaixo:\n",
    "\n",
    "Você já deve ter ouvido algum especialista dizer que as pessoas precisam dedicar, no máximo, 30% da sua renda mensal à moradia, 20% à educação e 15% ao transporte. Esses valores não devem ser totalmente desprezados, mas não podem funcionar como um norte para o orçamento doméstico de todas as famílias.\n",
    "\n",
    "Fonte: BTG Pactual Digital\n",
    "\n",
    "Crie um programa contendo uma função que, dados um valor de renda mensal total, gastos totais com moradia, gastos totais com educação e gastos totais com transporte, faça um diagnóstico da saúde financeira do usuário, com base nos valores percentuais acima expostos, informando qual é o percentual da renda mensal total comprometido por cada custo. \n",
    "\n",
    "\n",
    "- Se o gasto estiver dentro do percentual recomendado, informe ainda que: Seus gastos estão dentro da margem recomendada.\n",
    "- Caso contrário, informe: Portanto, idealmente, o máximo de sua renda comprometida com {tipo} deveria ser de R$ {valor_max}"
   ]
  },
  {
   "cell_type": "code",
   "execution_count": null,
   "metadata": {
    "id": "NrGxOG_4wzPw"
   },
   "outputs": [],
   "source": [
    "class diagnostico():\n",
    "  def __init__(self,renda,moradia,edu,transp):\n",
    "    self.renda = renda\n",
    "    self.moradia = moradia\n",
    "    self.edu = edu\n",
    "    self.transp = transp\n",
    "    print('Diagnóstico:\\n')\n",
    "\n",
    "  def rendaMensal(self):\n",
    "    pass\n",
    "\n",
    "  def diagMoradia(self):\n",
    "    moradia_max = self.renda * 0.3\n",
    "    if self.moradia > moradia_max:\n",
    "      print(f'Seus gastos totais com moradia comprometem {(self.moradia/self.renda)*100:.2f}%. O máximo recomendado é de 30%. Portanto, idealmente, o máximo de sua renda comprometida com moradia deveria ser de {moradia_max:.2f}.')\n",
    "    else:\n",
    "      print(f'Seus gastos totais com moradia comprometem {(self.moradia/self.renda)*100:.2f}%. O máximo recomendado é de 30%. Seus gastos estão dentro da margem recomendada.')\n",
    "\n",
    "  def diagEdu(self):\n",
    "    edu_max = self.renda * 0.2\n",
    "    if self.edu > edu_max:\n",
    "      print(f'Seus gastos totais com educação comprometem {(self.edu/self.renda)*100:.2f}%. O máximo recomendado é de 20%. Portanto, idealmente, o máximo de sua renda comprometida com moradia deveria ser de {edu_max:.2f}.')\n",
    "    else:\n",
    "      print(f'Seus gastos totais com educação comprometem {(self.edu/self.renda)*100:.2f}%. O máximo recomendado é de 20%. Seus gastos estão dentro da margem recomendada.')\n",
    "\n",
    "  def diagTransp(self):\n",
    "    transp_max = self.renda * 0.15\n",
    "    if self.transp > transp_max:\n",
    "      print(f'Seus gastos totais com transporte comprometem {(self.transp/self.renda)*100:.2f}%. O máximo recomendado é de 15%. Portanto, idealmente, o máximo de sua renda comprometida com moradia deveria ser de {transp_max:.2f}.')\n",
    "    else:\n",
    "      print(f'Seus gastos totais com transporte comprometem {(self.transp/self.renda)*100:.2f}%. O máximo recomendado é de 15%. Seus gastos estão dentro da margem recomendada.')"
   ]
  },
  {
   "cell_type": "code",
   "execution_count": null,
   "metadata": {
    "colab": {
     "base_uri": "https://localhost:8080/"
    },
    "id": "QdCUaB0GySaB",
    "outputId": "c033b0ae-69a5-4369-8466-d1def6b72e45"
   },
   "outputs": [
    {
     "name": "stdout",
     "output_type": "stream",
     "text": [
      "Diagnóstico:\n",
      "\n",
      "Seus gastos totais com moradia comprometem 82.42%. O máximo recomendado é de 30%. Portanto, idealmente, o máximo de sua renda comprometida com moradia deveria ser de 5460.12.\n",
      "Seus gastos totais com educação comprometem 27.47%. O máximo recomendado é de 20%. Portanto, idealmente, o máximo de sua renda comprometida com moradia deveria ser de 3640.08.\n",
      "Seus gastos totais com transporte comprometem 3.30%. O máximo recomendado é de 15%. Seus gastos estão dentro da margem recomendada.\n"
     ]
    }
   ],
   "source": [
    "result = diagnostico(18200.39,15000.57,5000,600)\n",
    "result.diagMoradia()\n",
    "result.diagEdu()\n",
    "result.diagTransp()"
   ]
  },
  {
   "cell_type": "code",
   "execution_count": null,
   "metadata": {
    "id": "Pr-LAOU-zPE7"
   },
   "outputs": [],
   "source": []
  },
  {
   "cell_type": "code",
   "execution_count": null,
   "metadata": {
    "id": "89RsyOUzE7iJ"
   },
   "outputs": [],
   "source": []
  },
  {
   "cell_type": "code",
   "execution_count": null,
   "metadata": {
    "id": "vyB2g9niE7-7"
   },
   "outputs": [],
   "source": []
  },
  {
   "cell_type": "markdown",
   "metadata": {
    "id": "UZT2DxnuE8M8"
   },
   "source": [
    "# Questão 4\n",
    "Seja a seguinte citação:\n",
    "\n",
    "Os juros compostos são a força mais poderosa do universo e a maior invenção da humanidade, porque permitem uma confiável e sistemática acumulação de riqueza\n",
    "\n",
    "A frase, curiosamente, é de Albert Einstein, não de algum banqueiro ou gestor de fundos de capitais.\n",
    "\n",
    "Assim, suponha que você possui 10.000 reais iniciais, consegue aportar 1.000 reais por mês e obtém um rendimento de 0,54 porcento ao mês. Por simplicidade, suponha que você faz o aporte após o rendimento no período acontecer.\n",
    "\n",
    "No primeiro mês, terá 10.000 reais + 0,54 porcento deste valor = 10.054,00. E, com o novo aporte, 11.054,00.\n",
    "\n",
    "No segundo mês, o valor inicial é de 11.054,00. Ele rende 0,54, totalizando 11.113,69. Com o novo aporte, 12.113,69, e assim sucessivamente.\n",
    "\n",
    "Ao final de 120 meses, você terá o montante final de 187.303,05.\n",
    "\n",
    "- A) Crie um programa que ponha a hipótese de Einstein à prova. Em uma função, receba, como entrada, um montante financeiro inicial, um percentual de rendimento por período, um valor de aporte para cada período e uma quantidade de períodos.\n",
    "- B) Crie uma função que exiba um gráfico da evolução do valor acumulado, tendo como eixo das abscissas (horizontal) o número de períodos e, no eixo das ordenadas (vertical), o valor acumulado, em reais.\n"
   ]
  },
  {
   "cell_type": "code",
   "execution_count": null,
   "metadata": {
    "colab": {
     "base_uri": "https://localhost:8080/"
    },
    "id": "sITsfTGBQ6v6",
    "outputId": "94046aca-829f-49a9-d60d-998cd8fd7e98"
   },
   "outputs": [
    {
     "name": "stdout",
     "output_type": "stream",
     "text": [
      "Valor inicial:10000\n",
      "Rendimento por período (%):0.54\n",
      "Aporte a cada período:1000\n",
      "Total de períodos:120\n",
      "\n",
      "Após 1º período, o valor será de R$11054.00.\n",
      "Após 2º período, o valor será de R$12113.69.\n",
      "Após 3º período, o valor será de R$13179.11.\n",
      "Após 4º período, o valor será de R$14250.27.\n",
      "Após 5º período, o valor será de R$15327.22.\n",
      "Após 6º período, o valor será de R$16409.99.\n",
      "Após 7º período, o valor será de R$17498.61.\n",
      "Após 8º período, o valor será de R$18593.10.\n",
      "Após 9º período, o valor será de R$19693.50.\n",
      "Após 10º período, o valor será de R$20799.85.\n",
      "Após 11º período, o valor será de R$21912.16.\n",
      "Após 12º período, o valor será de R$23030.49.\n",
      "Após 13º período, o valor será de R$24154.85.\n",
      "Após 14º período, o valor será de R$25285.29.\n",
      "Após 15º período, o valor será de R$26421.83.\n",
      "Após 16º período, o valor será de R$27564.51.\n",
      "Após 17º período, o valor será de R$28713.36.\n",
      "Após 18º período, o valor será de R$29868.41.\n",
      "Após 19º período, o valor será de R$31029.70.\n",
      "Após 20º período, o valor será de R$32197.26.\n",
      "Após 21º período, o valor será de R$33371.12.\n",
      "Após 22º período, o valor será de R$34551.33.\n",
      "Após 23º período, o valor será de R$35737.91.\n",
      "Após 24º período, o valor será de R$36930.89.\n",
      "Após 25º período, o valor será de R$38130.32.\n",
      "Após 26º período, o valor será de R$39336.22.\n",
      "Após 27º período, o valor será de R$40548.64.\n",
      "Após 28º período, o valor será de R$41767.60.\n",
      "Após 29º período, o valor será de R$42993.14.\n",
      "Após 30º período, o valor será de R$44225.31.\n",
      "Após 31º período, o valor será de R$45464.12.\n",
      "Após 32º período, o valor será de R$46709.63.\n",
      "Após 33º período, o valor será de R$47961.86.\n",
      "Após 34º período, o valor será de R$49220.86.\n",
      "Após 35º período, o valor será de R$50486.65.\n",
      "Após 36º período, o valor será de R$51759.28.\n",
      "Após 37º período, o valor será de R$53038.78.\n",
      "Após 38º período, o valor será de R$54325.19.\n",
      "Após 39º período, o valor será de R$55618.54.\n",
      "Após 40º período, o valor será de R$56918.88.\n",
      "Após 41º período, o valor será de R$58226.24.\n",
      "Após 42º período, o valor será de R$59540.67.\n",
      "Após 43º período, o valor será de R$60862.19.\n",
      "Após 44º período, o valor será de R$62190.84.\n",
      "Após 45º período, o valor será de R$63526.67.\n",
      "Após 46º período, o valor será de R$64869.72.\n",
      "Após 47º período, o valor será de R$66220.01.\n",
      "Após 48º período, o valor será de R$67577.60.\n",
      "Após 49º período, o valor será de R$68942.52.\n",
      "Após 50º período, o valor será de R$70314.81.\n",
      "Após 51º período, o valor será de R$71694.51.\n",
      "Após 52º período, o valor será de R$73081.66.\n",
      "Após 53º período, o valor será de R$74476.30.\n",
      "Após 54º período, o valor será de R$75878.47.\n",
      "Após 55º período, o valor será de R$77288.22.\n",
      "Após 56º período, o valor será de R$78705.57.\n",
      "Após 57º período, o valor será de R$80130.58.\n",
      "Após 58º período, o valor será de R$81563.29.\n",
      "Após 59º período, o valor será de R$83003.73.\n",
      "Após 60º período, o valor será de R$84451.95.\n",
      "Após 61º período, o valor será de R$85907.99.\n",
      "Após 62º período, o valor será de R$87371.89.\n",
      "Após 63º período, o valor será de R$88843.70.\n",
      "Após 64º período, o valor será de R$90323.46.\n",
      "Após 65º período, o valor será de R$91811.20.\n",
      "Após 66º período, o valor será de R$93306.99.\n",
      "Após 67º período, o valor será de R$94810.84.\n",
      "Após 68º período, o valor será de R$96322.82.\n",
      "Após 69º período, o valor será de R$97842.96.\n",
      "Após 70º período, o valor será de R$99371.32.\n",
      "Após 71º período, o valor será de R$100907.92.\n",
      "Após 72º período, o valor será de R$102452.82.\n",
      "Após 73º período, o valor será de R$104006.07.\n",
      "Após 74º período, o valor será de R$105567.70.\n",
      "Após 75º período, o valor será de R$107137.77.\n",
      "Após 76º período, o valor será de R$108716.31.\n",
      "Após 77º período, o valor será de R$110303.38.\n",
      "Após 78º período, o valor será de R$111899.02.\n",
      "Após 79º período, o valor será de R$113503.27.\n",
      "Após 80º período, o valor será de R$115116.19.\n",
      "Após 81º período, o valor será de R$116737.82.\n",
      "Após 82º período, o valor será de R$118368.20.\n",
      "Após 83º período, o valor será de R$120007.39.\n",
      "Após 84º período, o valor será de R$121655.43.\n",
      "Após 85º período, o valor será de R$123312.37.\n",
      "Após 86º período, o valor será de R$124978.26.\n",
      "Após 87º período, o valor será de R$126653.14.\n",
      "Após 88º período, o valor será de R$128337.07.\n",
      "Após 89º período, o valor será de R$130030.09.\n",
      "Após 90º período, o valor será de R$131732.25.\n",
      "Após 91º período, o valor será de R$133443.60.\n",
      "Após 92º período, o valor será de R$135164.20.\n",
      "Após 93º período, o valor será de R$136894.09.\n",
      "Após 94º período, o valor será de R$138633.31.\n",
      "Após 95º período, o valor será de R$140381.93.\n",
      "Após 96º período, o valor será de R$142140.00.\n",
      "Após 97º período, o valor será de R$143907.55.\n",
      "Após 98º período, o valor será de R$145684.65.\n",
      "Após 99º período, o valor será de R$147471.35.\n",
      "Após 100º período, o valor será de R$149267.69.\n",
      "Após 101º período, o valor será de R$151073.74.\n",
      "Após 102º período, o valor será de R$152889.54.\n",
      "Após 103º período, o valor será de R$154715.14.\n",
      "Após 104º período, o valor será de R$156550.60.\n",
      "Após 105º período, o valor será de R$158395.98.\n",
      "Após 106º período, o valor será de R$160251.32.\n",
      "Após 107º período, o valor será de R$162116.67.\n",
      "Após 108º período, o valor será de R$163992.10.\n",
      "Após 109º período, o valor será de R$165877.66.\n",
      "Após 110º período, o valor será de R$167773.40.\n",
      "Após 111º período, o valor será de R$169679.38.\n",
      "Após 112º período, o valor será de R$171595.64.\n",
      "Após 113º período, o valor será de R$173522.26.\n",
      "Após 114º período, o valor será de R$175459.28.\n",
      "Após 115º período, o valor será de R$177406.76.\n",
      "Após 116º período, o valor será de R$179364.76.\n",
      "Após 117º período, o valor será de R$181333.33.\n",
      "Após 118º período, o valor será de R$183312.53.\n",
      "Após 119º período, o valor será de R$185302.42.\n",
      "Após 120º período, o valor será de R$187303.05.\n"
     ]
    }
   ],
   "source": [
    "# Letra A\n",
    "def jurosCompostos():\n",
    "  mont = float(input('Valor inicial:'))\n",
    "  rend = float(input('Rendimento por período (%):'))\n",
    "  rend /= 100\n",
    "  aporte = float(input('Aporte a cada período:'))\n",
    "  periodos = int(input('Total de períodos:'))\n",
    "  print()\n",
    "\n",
    "  count = 1\n",
    "  while periodos > 0:\n",
    "    mont = mont+(mont*rend)\n",
    "    mont += aporte  \n",
    "    print(f'Após {count}º período, o valor será de R${mont:.2f}.')\n",
    "    count +=1\n",
    "    periodos-=1\n",
    "\n",
    "jurosCompostos()"
   ]
  },
  {
   "cell_type": "code",
   "execution_count": null,
   "metadata": {
    "id": "tmiA_wnhV27l"
   },
   "outputs": [],
   "source": [
    "# Letra B\n",
    "# bibliotecas\n",
    "import matplotlib.pyplot as plt\n",
    "import pandas as pd\n",
    "\n",
    "def graficoMontante():\n",
    "  # variáveis utilizadas\n",
    "  mont = float(input('Valor inicial:'))\n",
    "  rend = float(input('Rendimento por período (%):'))\n",
    "  rend /= 100\n",
    "  aporte = float(input('Aporte a cada período:'))\n",
    "  periodos = int(input('Total de períodos:'))\n",
    "\n",
    "  # criação do dataframe\n",
    "  df = pd.DataFrame(columns=['Montante',\n",
    "                            'Rendimento Mensal',\n",
    "                            'Aporte Mensal',\n",
    "                            'Período',\n",
    "                            ]\n",
    "                    )\n",
    "  \n",
    "\n",
    "  \n",
    "  count=0\n",
    "  while periodos+1 > 0: # +1 para poder pegar o capital inicial no período 0 também\n",
    "    df = pd.concat([df, pd.DataFrame.from_records([{\n",
    "                                                    'Montante':round(mont,2),\n",
    "                                                    'Rendimento Mensal':rend,\n",
    "                                                    'Aporte Mensal':aporte,\n",
    "                                                    'Período':count,\n",
    "                                                    }\n",
    "                                                  ])])\n",
    "    mont = mont+(mont*rend)\n",
    "    mont += aporte \n",
    "    \n",
    "    count+=1\n",
    "    periodos-=1\n",
    "\n",
    "  # fora do while já\n",
    "  x = df['Período']\n",
    "  y = df['Montante']\n",
    "\n",
    "  # plot\n",
    "  fig, ax = plt.subplots()\n",
    "  plt.xlabel('Período')\n",
    "  plt.ylabel('Montante')\n",
    "  plt.title('Montante Acumulado')\n",
    "  plt.grid()\n",
    "\n",
    "  ax.plot(x, y, linewidth=2.8, color='#4169E1')\n",
    "\n",
    "  plt.show()"
   ]
  },
  {
   "cell_type": "code",
   "execution_count": null,
   "metadata": {
    "colab": {
     "base_uri": "https://localhost:8080/",
     "height": 374
    },
    "id": "c_aWThrufY4A",
    "outputId": "95f7ec6c-0081-44f6-edfb-c86c5ed36da5"
   },
   "outputs": [
    {
     "name": "stdout",
     "output_type": "stream",
     "text": [
      "Valor inicial:10000\n",
      "Rendimento por período (%):0.54\n",
      "Aporte a cada período:1000\n",
      "Total de períodos:120\n"
     ]
    },
    {
     "data": {
      "image/png": "[encoded data removed]",
      "text/plain": [
       "<Figure size 432x288 with 1 Axes>"
      ]
     },
     "metadata": {
      "needs_background": "light"
     },
     "output_type": "display_data"
    }
   ],
   "source": [
    "# df\n",
    "graficoMontante()"
   ]
  },
  {
   "cell_type": "code",
   "execution_count": null,
   "metadata": {
    "id": "2uzzb3GCqVl4"
   },
   "outputs": [],
   "source": []
  },
  {
   "cell_type": "code",
   "execution_count": null,
   "metadata": {
    "id": "RcEY4ZnVqVoM"
   },
   "outputs": [],
   "source": []
  },
  {
   "cell_type": "code",
   "execution_count": null,
   "metadata": {
    "id": "JTYtPcPxsnjM"
   },
   "outputs": [],
   "source": []
  },
  {
   "cell_type": "markdown",
   "metadata": {
    "id": "2m43plyTsnrN"
   },
   "source": [
    "#Questão 5\n",
    "Considere a seguinte projeção de PIBs feita pelo FMI em 2014:\n",
    "\n",
    "Maiores Economias do Mundo (PIB em trilhões de US$ - 2013-2020 – ordem decrescente de 2014)\n",
    "\n",
    "Faça download dos dados em:\n",
    "https://docs.google.com/spreadsheets/d/17ph-3NHpGV3GH0R2_eErd-23K8gmpcGexQTxLDcjbDg/edit#gid=1750530800\n",
    "\n",
    "- A) Desenvolva um programa contendo uma função que permita ao usuário solicitar o PIB de um país para um determinado ano. \n",
    "   - O programa solicita ao usuário o nome do país e o ano desejado.\n",
    "   - Caso o país solicitado ou o ano não sejam válidos, o programa deve informar, na saída, a mensagem: \"País não disponível.\"ou \"Ano não disponível.\"\n",
    "a depender do tipo de dado não encontrado.\n",
    "\n",
    "\n",
    "- B) Desenvolva um programa contendo uma função que liste, por país, a estimativa de variação do PIB, em percentual, entre 2013 e 2020\n",
    "\n",
    "- C) Desenvolva uma função que, para um país, exiba o gráfico da evolução do PIB ao longo dos anos.\n",
    "    - A função deve receber, como entrada, o nome de um país, e exibir o gráfico para todo o período listado na tabela.\n",
    "    - O gráfico deve conter os valores do PIB no eixo das ordenadas (vertical) e os anos no eixo das abscissas (horizontal)"
   ]
  },
  {
   "cell_type": "code",
   "execution_count": null,
   "metadata": {
    "id": "faLMsT_wt19H"
   },
   "outputs": [],
   "source": []
  },
  {
   "cell_type": "code",
   "execution_count": null,
   "metadata": {
    "colab": {
     "base_uri": "https://localhost:8080/",
     "height": 922
    },
    "id": "Zice3XA-DBIS",
    "outputId": "99b1397d-ec26-4d24-a029-0d03c4d3ccbe"
   },
   "outputs": [
    {
     "name": "stdout",
     "output_type": "stream",
     "text": [
      "Digite o nome do país: br\n",
      "País não disponível. Digite o nome de um país válido:Brasil\n",
      "Informe um ano entre 2013 e 2020: 2050\n",
      "Ano não disponível. Digite um ano válido: 2020\n",
      "==========================================================================================\n",
      "\n",
      "Chamada da Função de Consulta do PIB\n",
      "País:Brasil\n",
      "Ano: 2020\n",
      "PIB: US$2.35 em trilhões.\n",
      "\n",
      "==========================================================================================\n",
      "Chamada da Função de Variação do PIB\n",
      "\n",
      "EUA                  Variação de 34.13% entre 2013 e 2020.\n",
      "China                Variação de 70.72% entre 2013 e 2020.\n",
      "Japão                Variação de 0.20% entre 2013 e 2020.\n",
      "Alemanha             Variação de 9.92% entre 2013 e 2020.\n",
      "Reino Unido          Variação de 39.18% entre 2013 e 2020.\n",
      "França               Variação de 7.50% entre 2013 e 2020.\n",
      "Brasil               Variação de -1.67% entre 2013 e 2020.\n",
      "Itália               Variação de 1.88% entre 2013 e 2020.\n",
      "Índia                Variação de 94.65% entre 2013 e 2020.\n",
      "Rússia               Variação de 0.48% entre 2013 e 2020.\n",
      "Canadá               Variação de 11.48% entre 2013 e 2020.\n",
      "Coreia do Sul        Variação de 54.62% entre 2013 e 2020.\n",
      "Espanha              Variação de 6.47% entre 2013 e 2020.\n",
      "México               Variação de 30.95% entre 2013 e 2020.\n",
      "Indonésia            Variação de -85.76% entre 2013 e 2020.\n",
      "\n",
      "==========================================================================================\n",
      "\n",
      "Chamada da Função do Gráfico do PIB\n",
      "\n"
     ]
    },
    {
     "data": {
      "image/png": "[encoded data removed]",
      "text/plain": [
       "<Figure size 432x288 with 1 Axes>"
      ]
     },
     "metadata": {
      "needs_background": "light"
     },
     "output_type": "display_data"
    }
   ],
   "source": [
    "# Organização do dataframe\n",
    "pib = pd.read_csv('planilha_pib.csv')\n",
    "# pib.head()\n",
    "pib2 = pd.melt(pib, id_vars=['País'], value_vars=['2013','2014','2015','2016','2017','2018','2019','2020'])\n",
    "# pib2.head()\n",
    "pib2.rename(columns = {'variable':'Ano', 'value':'PIB'}, inplace = True)\n",
    "# pib2.tail()\n",
    "\n",
    "\n",
    "# Criação de listas para conferência\n",
    "lista_paises=[]\n",
    "lista_ano=[]\n",
    "for p in pib2['País']:\n",
    "  if p not in lista_paises:\n",
    "    lista_paises.append(p)\n",
    "for z in pib2['Ano']:\n",
    "  if z not in lista_ano:\n",
    "    lista_ano.append(z)\n",
    "\n",
    "# Validação do país\n",
    "pais = input('Digite o nome do país: ').strip()\n",
    "while True:\n",
    "  if pais not in lista_paises:\n",
    "    pais = input('País não disponível. Digite o nome de um país válido:')\n",
    "  else:\n",
    "    break\n",
    "\n",
    "# Validação do ano\n",
    "ano = input('Informe um ano entre 2013 e 2020: ')\n",
    "while True:\n",
    "  if ano not in lista_ano:\n",
    "    ano = input('Ano não disponível. Digite um ano válido: ')\n",
    "  else:\n",
    "    break\n",
    "\n",
    "\n",
    "# Criação das Funções:\n",
    "def consultaPib():\n",
    "  for j in lista_paises:\n",
    "    for x in lista_ano:\n",
    "      if j in pais and x in ano:\n",
    "        for index, i in enumerate(pib2['País']):\n",
    "          if i == pais and pib2.loc[index,'Ano'] == ano:\n",
    "            print(f\"País:{i}\\nAno: {pib2.loc[index,'Ano']}\\nPIB: US${pib2.loc[index,'PIB']} em trilhões.\")\n",
    "\n",
    "def variacaoPib():\n",
    "  for index, i in enumerate(pib['País']):\n",
    "    variacao = ((pib.loc[index,'2020']/pib.loc[index,'2013']) -1 ) *100\n",
    "    print(f'{i:<20} Variação de {variacao:.2f}% entre 2013 e 2020.')\n",
    "\n",
    "def graficoPib():\n",
    "  filtro = pib2['País'] == pais\n",
    "\n",
    "  x2 = pib2[filtro]['Ano']\n",
    "  y2 = pib2[filtro]['PIB']\n",
    "\n",
    "  # plot\n",
    "  fig, ax = plt.subplots()\n",
    "  plt.xlabel('Ano')\n",
    "  plt.ylabel('PIB')\n",
    "  plt.title(f'PIB do {pais} de 2013 a 2020 em trilhões (US$)')\n",
    "  plt.grid()\n",
    "\n",
    "  ax.plot(x2, y2, linewidth=2.8, color='#4169E1')\n",
    "\n",
    "  plt.show()\n",
    "\n",
    "\n",
    "\n",
    "# Chamada das Funções:\n",
    "print('==='* 30)\n",
    "print()\n",
    "print('Chamada da Função de Consulta do PIB')\n",
    "consultaPib()\n",
    "print()\n",
    "print('==='* 30)\n",
    "\n",
    "\n",
    "print('Chamada da Função de Variação do PIB\\n')\n",
    "variacaoPib()\n",
    "print()\n",
    "print('==='* 30)\n",
    "print()\n",
    "\n",
    "print('Chamada da Função do Gráfico do PIB\\n')\n",
    "graficoPib()"
   ]
  }
 ],
 "metadata": {
  "colab": {
   "authorship_tag": "ABX9TyPkkSmNU7Op6OKv+9ugGWRH",
   "collapsed_sections": [],
   "include_colab_link": true,
   "name": "Assessment-Logica_Prog.ipynb",
   "provenance": []
  },
  "kernelspec": {
   "display_name": "Python 3 (ipykernel)",
   "language": "python",
   "name": "python3"
  },
  "language_info": {
   "codemirror_mode": {
    "name": "ipython",
    "version": 3
   },
   "file_extension": ".py",
   "mimetype": "text/x-python",
   "name": "python",
   "nbconvert_exporter": "python",
   "pygments_lexer": "ipython3",
   "version": "3.9.12"
  }
 },
 "nbformat": 4,
 "nbformat_minor": 1
}
